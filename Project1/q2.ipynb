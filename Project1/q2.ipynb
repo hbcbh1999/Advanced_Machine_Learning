{
 "cells": [
  {
   "cell_type": "code",
   "execution_count": 1,
   "metadata": {
    "collapsed": true
   },
   "outputs": [],
   "source": [
    "import csv\n",
    "import numpy as np\n",
    "import re\n",
    "import collections\n",
    "import sys\n",
    "\n",
    "Q2_MODEL_PATH = \"data/model.txt\"\n",
    "Q2_TRAIN_PATH = \"data/train.txt\"\n",
    "train_data = {}"
   ]
  },
  {
   "cell_type": "code",
   "execution_count": 2,
   "metadata": {
    "collapsed": true
   },
   "outputs": [],
   "source": [
    "def load_Q2_model():\n",
    "    with open(Q2_MODEL_PATH, 'r') as f:\n",
    "        lines = f.readlines()\n",
    "    Wj = lines[:26*128]\n",
    "    Tij = lines[26*128:]\n",
    "    Wj = np.array(Wj, dtype=np.float32).reshape((26, 128))\n",
    "    Tij = np.array(Tij, dtype=np.float32).reshape((26, 26), order='F')\n",
    "    return Wj, Tij\n",
    "    \n",
    "def load_Q2_data():\n",
    "    with open(Q2_TRAIN_PATH, 'r') as f:\n",
    "        lines = f.readlines()\n",
    "    for l in lines:\n",
    "        letter = re.findall(r'[a-z]', l)\n",
    "        letter = letter[0]\n",
    "        l = re.findall(r'\\d+', l)\n",
    "        l = list(map(int, l))\n",
    "        letter_id = l[0]\n",
    "        next_id = l[1]\n",
    "        word_id = l[2]\n",
    "        pos = l[3]\n",
    "        p_ij = np.array(l[4:])\n",
    "        global train_data\n",
    "        # store letter in dictionary as letter_id -> letter, next_id, word_id, position, pixel_values\n",
    "        train_data.update({letter_id: [letter, next_id, word_id, pos, p_ij]})\n",
    "    train_data = collections.OrderedDict(train_data)\n",
    "    return train_data"
   ]
  },
  {
   "cell_type": "code",
   "execution_count": 3,
   "metadata": {
    "collapsed": true
   },
   "outputs": [],
   "source": [
    "# for reference\n",
    "# def calc_partition_fn(X_train, Wj, Tij):\n",
    "#     weights = np.zeros([X_train.shape[0], Wj.shape[0]])\n",
    "#     alpha = np.zeros([X_train.shape[0], Wj.shape[0]]) # init alpha to zeros\n",
    "#     alpha[0,] = 1 # init first Xj to 1\n",
    "#     print(alpha[0,])\n",
    "#     # max_i = np.amax(np.exp(np.dot(X_train, Wj.T)), axis=0) # get M = max(<Ws, Xj>)\n",
    "#     # calculating max\n",
    "#     values = np.zeros([X_train.shape[0], Wj.shape[0]])\n",
    "#     for j in range(Wj.shape[0]):\n",
    "#         values[0, j] = np.exp(np.dot(X_train[0], Wj[j]))\n",
    "#     for j in range(1, X_train.shape[0]):\n",
    "#         for s in range(1, Wj.shape[0] - 1):\n",
    "#             values[j, s] = np.exp(np.dot(X_train[j], Wj[s]))\n",
    "#     max_i = np.amax(values, axis=0)\n",
    "#     print(\"max_i: \" + str(max_i) + \" shape: \" + str(max_i.shape))\n",
    "\n",
    "#     for j in range(1, X_train.shape[0]):\n",
    "#         for s in range(1, Wj.shape[0] - 1):\n",
    "#             # phi = max_i[s] + np.dot(X_train[j], Wj[s]) - max_i[s]\n",
    "#             phi = np.exp(np.dot(X_train[j], Wj[s]) - max_i[s])\n",
    "#             alpha[j, s] = alpha[j-1, s] * phi\n",
    "            \n",
    "#             # print(\"alpha[\" + str(j) + ', ' + str(s) + ']: ' + str(alpha[j, s]))\n",
    "#             # print(\"phi [\" + str(j) + \", \" + str(s) + \"]: \" + str(phi))\n",
    "#     alpha[j,] += max_i\n",
    "#     for j in range(1, X_train.shape[0]):\n",
    "#         print(\"a[\" + str(j) + \"]: \" + str(alpha[j,]))"
   ]
  },
  {
   "cell_type": "code",
   "execution_count": 4,
   "metadata": {
    "collapsed": true
   },
   "outputs": [],
   "source": [
    "# # write intermediate forward pass\n",
    "# def forward_pass(X_train, Wj, Tij, alpha, j): # j=1 to m, maybe reuse alpha calculated in partition_fn?\n",
    "#     for s in range(1, Wj.shape[0]):\n",
    "#         phi = np.exp(np.dot(X_train[j][1:], Wj[s]))\n",
    "#         alpha[j, s] = alpha[j-1, s] * phi\n",
    "#     return alpha\n",
    "\n",
    "# # write intermediate backward pass\n",
    "# def backward_pass(X_train, Wj, Tij, beta): # j=0 to m-1\n",
    "#     for s in range(1, Wj.shape[0]):\n",
    "#         phi = np.exp(np.dot(X_train[j+1][1:], Wj[s]))\n",
    "#         beta[j, s] = beta[j+1, s] * phi\n",
    "#     return beta\n",
    "\n",
    "# write results to .txt\n",
    "# result = open(r'z.txt', 'w+')\n",
    "# result.write('alpha[' + str(j) + ']: ' + str([alpha[j, s] for s in range(1, Wj.shape[0])]) + '\\n')\n",
    "# result.close()\n",
    "\n",
    "# write entire alpha calc\n",
    "def forward_pass(X_train, Wj, Tij): # required size...?\n",
    "    alpha = np.zeros([X_train.shape[0], Wj.shape[0]]) # init alpha values to zeros\n",
    "    alpha[0,] = 1 # init first alpha[Xj,]  to 1\n",
    "    \n",
    "    for j in range(1, X_train.shape[0]):\n",
    "        if X_train[j][0] != X_train[j-1][0]:\n",
    "            alpha[j,] = 1 # init alpha[Xj,] to 1 if new word\n",
    "        else:\n",
    "            for s in range(0, Wj.shape[0]):\n",
    "                phi = np.exp(np.dot(X_train[j][1:], Wj[s]))\n",
    "                alpha[j, s] = alpha[j-1, s] * phi\n",
    "    return alpha\n",
    "\n",
    "# write entire beta calc\n",
    "def backward_pass(X_train, Wj, Tij):\n",
    "    beta = np.zeros([X_train.shape[0], Wj.shape[0]])\n",
    "    beta[-1,] = 1 # init last beta[Xj,] to 1\n",
    "    \n",
    "    for j in range(X_train.shape[0] - 2, -1, -1):\n",
    "        if X_train[j][0] != X_train[j+1][0]:\n",
    "            beta[j,] = 1 # init beta[Xj,] to 1 if last letter of new word\n",
    "        else:\n",
    "            for s in range(0, Wj.shape[0]):\n",
    "                phi = np.exp(np.dot(X_train[j][1:], Wj[s]))\n",
    "                beta[j, s] = beta[j+1, s] * phi\n",
    "    return beta\n",
    "    \n",
    "# write fn to calculate p(y|X)\n",
    "def conditional_prob(X_train, Wj, Tij):\n",
    "    dist = np.zeros([X_train.shape[0], Wj.shape[0]])\n",
    "    dist[0,] = 1 # set init letter to 1, correct?\n",
    "    alpha = forward_pass(X_train, Wj, Tij)\n",
    "    beta = backward_pass(X_train, Wj, Tij)\n",
    "    for j in range(1, X_train.shape[0] - 1):\n",
    "        for s in range(0, Wj.shape[0] - 1):\n",
    "            alpha_j_a = alpha[j, s]\n",
    "            beta_j1_b = beta[j+1, s+1]\n",
    "            phi = np.exp(np.dot(X_train[j+1][1:], Wj[s]) + Tij[s, s+1])\n",
    "            dist[j, s] = alpha_j_a * beta_j1_b * phi\n",
    "    dist = dist / alpha\n",
    "    dist = np.sum(dist, axis=0)\n",
    "    dist = np.log(dist)\n",
    "    result = open(r'dist.txt', 'w+')\n",
    "    for j in range(0, X_train.shape[0]):\n",
    "        result.write('dist[' + str(j) + ']: ' + str([alpha[j, s] for s in range(1, Wj.shape[0])]) + '\\n')\n",
    "    result.close()\n",
    "\n",
    "# calculate log p(y|X) without exploding weights\n",
    "# calculate grad(log p(y|X)) wrt Wj\n",
    "# calculate grad(log p(y|X)) wrt Tij"
   ]
  },
  {
   "cell_type": "code",
   "execution_count": 6,
   "metadata": {
    "scrolled": true
   },
   "outputs": [
    {
     "name": "stdout",
     "output_type": "stream",
     "text": [
      "y_train shape: (25953, 26)\n",
      "X_train.shape: (25953, 129)\n",
      "Wj.shape: (26, 128)\n",
      "Tij.shape: (26, 26)\n"
     ]
    }
   ],
   "source": [
    "Wj, Tij = load_Q2_model()\n",
    "train_data = load_Q2_data()\n",
    "t_list = list(train_data.items())\n",
    "\n",
    "y_train = np.empty([len(t_list), 26], dtype=np.int8) # [n, 26], change it to n\n",
    "X_train = np.empty([len(t_list), 129], dtype=np.int16) # [n, 128], change it to n\n",
    "C_train = np.empty([26], dtype=np.float64) # [n, 26], change it to n\n",
    "\n",
    "for index, i in enumerate(t_list):\n",
    "    y_train[index] = ord(i[1][0][0]) - 97\n",
    "    X_train[index][0] = i[1][2]\n",
    "    X_train[index][1:] = i[1][4]\n",
    "\n",
    "print(\"y_train shape: \" + str(y_train.shape))\n",
    "print(\"X_train.shape: \" + str(X_train.shape))\n",
    "print(\"Wj.shape: \" + str(Wj.shape))\n",
    "print(\"Tij.shape: \" + str(Tij.shape))\n",
    "\n",
    "conditional_prob(X_train, Wj, Tij)\n",
    "# print(forward_pass(X_train, Wj, Tij))\n",
    "\n",
    "# partition_fn(X_train, Wj, Tij)\n",
    "# calc_partition_fn(X_train, Wj, Tij)"
   ]
  },
  {
   "cell_type": "code",
   "execution_count": null,
   "metadata": {
    "collapsed": true
   },
   "outputs": [],
   "source": []
  },
  {
   "cell_type": "code",
   "execution_count": null,
   "metadata": {
    "collapsed": true
   },
   "outputs": [],
   "source": []
  }
 ],
 "metadata": {
  "kernelspec": {
   "display_name": "Python 3",
   "language": "python",
   "name": "python3"
  },
  "language_info": {
   "codemirror_mode": {
    "name": "ipython",
    "version": 3
   },
   "file_extension": ".py",
   "mimetype": "text/x-python",
   "name": "python",
   "nbconvert_exporter": "python",
   "pygments_lexer": "ipython3",
   "version": "3.6.3"
  }
 },
 "nbformat": 4,
 "nbformat_minor": 2
}
