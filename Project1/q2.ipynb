{
 "cells": [
  {
   "cell_type": "code",
   "execution_count": 30,
   "metadata": {
    "collapsed": true
   },
   "outputs": [],
   "source": [
    "import csv\n",
    "import numpy as np\n",
    "import re\n",
    "Q2_MODEL_PATH = \"data/model.txt\"\n",
    "Q2_TRAIN_PATH = \"data/train.txt\"\n",
    "train_data = {}"
   ]
  },
  {
   "cell_type": "code",
   "execution_count": 31,
   "metadata": {},
   "outputs": [],
   "source": [
    "def load_Q2_model():\n",
    "    with open(Q2_MODEL_PATH, 'r') as f:\n",
    "        lines = f.readlines()\n",
    "    Wj = lines[:26*128]\n",
    "    Tij = lines[26*128:]\n",
    "    Wj = np.array(Wj, dtype=np.float32).reshape((26, 128))\n",
    "    Tij = np.array(Tij, dtype=np.float32).reshape((26, 26), order='F')\n",
    "    print(Wj.shape)\n",
    "    print(Tij.shape)\n",
    "    \n",
    "def load_Q2_data():\n",
    "    with open(Q2_TRAIN_PATH, 'r') as f:\n",
    "        lines = f.readlines()\n",
    "    for l in lines:\n",
    "        # get letter\n",
    "        letter = re.findall(r'[a-z]', l)\n",
    "        # get all ints\n",
    "        l = re.findall(r'\\d+', l)\n",
    "        # store letter_id (unique id)\n",
    "        letter_id = l[0]\n",
    "        # store next letter id\n",
    "        next_id = l[1]\n",
    "        # get current word id\n",
    "        word_id = l[2]\n",
    "        # get pos for current letter\n",
    "        pos = l[3]\n",
    "        # get pixel values (i, j) for current letter\n",
    "        p_ij = np.array(l[4:])\n",
    "        # store letter in dictionary as letter_id -> letter, next_id, word_id, position, pixel_values\n",
    "        train_data.update({letter_id: [letter, next_id, word_id, pos, p_ij]})"
   ]
  },
  {
   "cell_type": "code",
   "execution_count": 28,
   "metadata": {},
   "outputs": [
    {
     "name": "stdout",
     "output_type": "stream",
     "text": [
      "(26, 128)\n",
      "(26, 26)\n",
      "25953\n"
     ]
    }
   ],
   "source": [
    "load_Q2_model()\n",
    "load_Q2_data()\n",
    "print(len(train_data))"
   ]
  },
  {
   "cell_type": "code",
   "execution_count": null,
   "metadata": {
    "collapsed": true
   },
   "outputs": [],
   "source": []
  }
 ],
 "metadata": {
  "kernelspec": {
   "display_name": "Python 3",
   "language": "python",
   "name": "python3"
  },
  "language_info": {
   "codemirror_mode": {
    "name": "ipython",
    "version": 3
   },
   "file_extension": ".py",
   "mimetype": "text/x-python",
   "name": "python",
   "nbconvert_exporter": "python",
   "pygments_lexer": "ipython3",
   "version": "3.6.3"
  }
 },
 "nbformat": 4,
 "nbformat_minor": 2
}
