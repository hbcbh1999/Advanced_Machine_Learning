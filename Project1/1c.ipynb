{
 "cells": [
  {
   "cell_type": "code",
   "execution_count": 1,
   "metadata": {},
   "outputs": [
    {
     "name": "stdout",
     "output_type": "stream",
     "text": [
      "(100, 128)\n",
      "(26, 128)\n",
      "(26, 26)\n"
     ]
    }
   ],
   "source": [
    "# load Data\n",
    "import numpy\n",
    "import itertools\n",
    "import copy\n",
    "a = numpy.loadtxt(r'data\\decode_input.txt')\n",
    "i =0\n",
    "j =127\n",
    "y = list(range(1,27))\n",
    "xarray = numpy.array(a[0:12800])\n",
    "xmatrix = numpy.matrix(numpy.split(xarray, 100))\n",
    "print(numpy.shape(xmatrix))\n",
    "warray = numpy.array(a[12800:16128])\n",
    "wmatrix = numpy.matrix(numpy.split(warray, 26))\n",
    "print(numpy.shape(wmatrix))\n",
    "tarray = numpy.array(a[16128:16804])\n",
    "tmatrix = numpy.matrix(numpy.split(tarray, 26))\n",
    "print(numpy.shape(tmatrix))"
   ]
  },
  {
   "cell_type": "code",
   "execution_count": 6,
   "metadata": {},
   "outputs": [
    {
     "name": "stdout",
     "output_type": "stream",
     "text": [
      "[[[[-0.4792773301839127]], [[0.30152248562428063]], [[-2.051073881727519]], [[0.39298601883732226]], [[1.3639744508246991]], [[-0.8239228481970179]], [[0.9127013108227393]], [[-0.21000962186620226]], [[-2.074644511927537]], [[0.7100714231837582]], [[-0.3887899904139591]], [[0.02854712173940005]], [[-0.050340264822031966]], [[-0.11354731988605299]], [[0.02724721392820839]], [[-0.492535062844745]], [[-1.2822655558852118]], [[3.479181133656113]], [[0.9000301683199793]], [[-0.030282027562672703]], [[-2.3093484523875154]], [[-0.0927357470724607]], [[0.7262593381388391]], [[1.646198998968282]], [[-0.06334691875858733]], [[-2.133754005168219]]]]\n"
     ]
    }
   ],
   "source": [
    "# Initialization\n",
    "nodeweight = []\n",
    "nodeweight1 = []\n",
    "opt = []\n",
    "for j in range(0,26):\n",
    "    nodeweight.append(numpy.dot(xmatrix[0], wmatrix[j].transpose()).tolist())\n",
    "opt.append(nodeweight)\n",
    "print(opt)"
   ]
  },
  {
   "cell_type": "code",
   "execution_count": 7,
   "metadata": {
    "collapsed": true
   },
   "outputs": [],
   "source": [
    "# Dynamic Programming\n",
    "optnodes = [[0 for x in range(26)] for y in range(100)] \n",
    "for i in range(1,100):\n",
    "    tempnodeweight = []\n",
    "    tempedgeweight = []\n",
    "    nodeweight1 = []\n",
    "    nodeweight1 = copy.deepcopy(nodeweight)\n",
    "    opt.append(nodeweight1)\n",
    "    for j in range(0,26):\n",
    "        tempnodeweight.append(numpy.dot(xmatrix[i], wmatrix[j].transpose()).tolist())\n",
    "    for j in range(0,26):\n",
    "        opt[i][j][0][0] = 0\n",
    "        for k in range(0,26):\n",
    "            if(opt[i][j][0][0] < opt[i-1][k][0][0] + tempnodeweight[j][0][0] + tmatrix.item(k,j)):\n",
    "                opt[i][j][0][0] = opt[i-1][k][0][0] + tempnodeweight[j][0][0] + tmatrix.item(k,j)\n",
    "                optnodes[i][j] = k"
   ]
  },
  {
   "cell_type": "code",
   "execution_count": 8,
   "metadata": {},
   "outputs": [
    {
     "name": "stdout",
     "output_type": "stream",
     "text": [
      "23\n"
     ]
    },
    {
     "data": {
      "text/plain": [
       "199.41772558210567"
      ]
     },
     "execution_count": 8,
     "metadata": {},
     "output_type": "execute_result"
    }
   ],
   "source": [
    "# final values\n",
    "seq = [0 for x in range(0,100)]\n",
    "argmax = 0\n",
    "for i in range(0,26):\n",
    "    if(argmax < opt[99][i][0][0]):\n",
    "        argmax = opt[99][i][0][0]\n",
    "        seq[99] = i + 1;\n",
    "print(seq[99])\n",
    "argmax"
   ]
  },
  {
   "cell_type": "code",
   "execution_count": 9,
   "metadata": {},
   "outputs": [
    {
     "data": {
      "text/plain": [
       "199.41772558210567"
      ]
     },
     "execution_count": 9,
     "metadata": {},
     "output_type": "execute_result"
    }
   ],
   "source": [
    "# Track Back\n",
    "k = seq[99] - 1\n",
    "for i in range(99, 0, -1):\n",
    "    k = optnodes[i][k]\n",
    "    seq[i-1] = k + 1\n",
    "seq\n",
    "argmax"
   ]
  },
  {
   "cell_type": "code",
   "execution_count": 10,
   "metadata": {},
   "outputs": [
    {
     "data": {
      "text/plain": [
       "17"
      ]
     },
     "execution_count": 10,
     "metadata": {},
     "output_type": "execute_result"
    }
   ],
   "source": [
    "optnodes[1][10]"
   ]
  },
  {
   "cell_type": "code",
   "execution_count": null,
   "metadata": {
    "collapsed": true
   },
   "outputs": [],
   "source": []
  }
 ],
 "metadata": {
  "kernelspec": {
   "display_name": "Python 3",
   "language": "python",
   "name": "python3"
  },
  "language_info": {
   "codemirror_mode": {
    "name": "ipython",
    "version": 3
   },
   "file_extension": ".py",
   "mimetype": "text/x-python",
   "name": "python",
   "nbconvert_exporter": "python",
   "pygments_lexer": "ipython3",
   "version": "3.6.3"
  }
 },
 "nbformat": 4,
 "nbformat_minor": 2
}
