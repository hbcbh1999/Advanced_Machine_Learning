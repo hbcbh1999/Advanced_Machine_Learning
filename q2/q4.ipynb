{
 "cells": [
  {
   "cell_type": "code",
   "execution_count": 1,
   "metadata": {
    "collapsed": false,
    "deletable": true,
    "editable": true
   },
   "outputs": [],
   "source": [
    "from subprocess import run, PIPE\n",
    "import os\n",
    "import matplotlib.pyplot as plt\n",
    "import sys\n",
    "%matplotlib inline\n",
    "\n",
    "import numpy as np\n",
    "from sklearn.svm import LinearSVC\n",
    "from data_loader import load_Q2_data\n",
    "from utils import flatten_dataset, reshape_dataset, read_data_formatted\n",
    "from q3 import train_evaluate_linear_svm, plot_scores"
   ]
  },
  {
   "cell_type": "code",
   "execution_count": 2,
   "metadata": {
    "collapsed": false,
    "deletable": true,
    "editable": true
   },
   "outputs": [],
   "source": [
    "CHAR_CV_SCORES = []\n",
    "WORD_CV_SCORES = []\n",
    "\n",
    "struct_train_path = \"train_struct.txt\"\n",
    "struct_test_path = \"test_struct.txt\""
   ]
  },
  {
   "cell_type": "code",
   "execution_count": 3,
   "metadata": {
    "collapsed": false,
    "deletable": true,
    "editable": true
   },
   "outputs": [],
   "source": [
    "# def train_evaluate_linear_svm(C=1.0, transform_trainset=False, limit=None):\n",
    "#     X = []\n",
    "#     y = []\n",
    "#     word_ids = []\n",
    "    \n",
    "#     X, y = read_data_formatted(struct_train_path)\n",
    "    \n",
    "#     for i in range(len(X)):\n",
    "#         for j in range(len(X[i])):\n",
    "#             word_ids.append(i)\n",
    "    \n",
    "#     X = flatten_dataset(X)\n",
    "#     y = flatten_dataset(y)\n",
    "    \n",
    "#     if transform_trainset:\n",
    "#         assert limit is not None, \"If dataset is being transformed, then limit must be set\"\n",
    "#         X_train = transform_dataset(X, limit)\n",
    "\n",
    "#     X_train = np.array(X)\n",
    "#     y_train = np.array(y)\n",
    "\n",
    "#     model = LinearSVC(C=C, max_iter=1000, verbose=10, random_state=0)\n",
    "#     model.fit(X_train, y_train)\n",
    "\n",
    "#     X = []\n",
    "#     y = []\n",
    "    \n",
    "#     X, y = read_data_formatted(struct_test_path)\n",
    "        \n",
    "#     X = flatten_dataset(X)\n",
    "#     y = flatten_dataset(y)\n",
    "    \n",
    "#     X_test = np.array(X)\n",
    "#     y_test = np.array(y)\n",
    "\n",
    "#     y_preds = model.predict(X_test)\n",
    "#     char_acc, word_acc = evaluate_crf(y_test, y_preds, word_ids)\n",
    "\n",
    "#     CHAR_CV_SCORES.append(char_acc)\n",
    "#     WORD_CV_SCORES.append(word_acc)"
   ]
  },
  {
   "cell_type": "code",
   "execution_count": 4,
   "metadata": {
    "collapsed": false,
    "deletable": true,
    "editable": true
   },
   "outputs": [
    {
     "ename": "SystemExit",
     "evalue": "0",
     "output_type": "error",
     "traceback": [
      "An exception has occurred, use %tb to see the full traceback.\n",
      "\u001b[0;31mSystemExit\u001b[0m\u001b[0;31m:\u001b[0m 0\n"
     ]
    },
    {
     "name": "stderr",
     "output_type": "stream",
     "text": [
      "/Library/Python/2.7/site-packages/IPython/core/interactiveshell.py:2889: UserWarning: To exit: use 'exit', 'quit', or Ctrl-D.\n",
      "  warn(\"To exit: use 'exit', 'quit', or Ctrl-D.\", stacklevel=1)\n"
     ]
    }
   ],
   "source": [
    "def Q4():\n",
    "    limits = [0, 500, 1000, 1500, 2000]  # [1.0, 10.0, 100.0, 1000.0]\n",
    "    for limit in limits:\n",
    "        train_evaluate_linear_svm(C=1.0, transform_trainset=True, limit=limit)\n",
    "\n",
    "    plot_scores(limits, scale=None, xlabel='distortion count')\n",
    "Q4()"
   ]
  },
  {
   "cell_type": "code",
   "execution_count": null,
   "metadata": {
    "collapsed": false,
    "deletable": true,
    "editable": true
   },
   "outputs": [],
   "source": [
    "X, y = read_data_formatted(struct_train_path)\n",
    "X = np.asarray(X)\n",
    "X = flatten_dataset(X)\n",
    "test = X[25000].reshape((16, 8))\n",
    "plt.imshow(test, 'gray', interpolation='None')\n"
   ]
  },
  {
   "cell_type": "code",
   "execution_count": null,
   "metadata": {
    "collapsed": true,
    "deletable": true,
    "editable": true
   },
   "outputs": [],
   "source": []
  }
 ],
 "metadata": {
  "kernelspec": {
   "display_name": "Python 2",
   "language": "python",
   "name": "python2"
  },
  "language_info": {
   "codemirror_mode": {
    "name": "ipython",
    "version": 2
   },
   "file_extension": ".py",
   "mimetype": "text/x-python",
   "name": "python",
   "nbconvert_exporter": "python",
   "pygments_lexer": "ipython2",
   "version": "2.7.10"
  }
 },
 "nbformat": 4,
 "nbformat_minor": 2
}
